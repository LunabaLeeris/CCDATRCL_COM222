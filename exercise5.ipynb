{
  "cells": [
    {
      "cell_type": "markdown",
      "metadata": {
        "id": "view-in-github",
        "colab_type": "text"
      },
      "source": [
        "<a href=\"https://colab.research.google.com/github/LunabaLeeris/CCDATRCL_COM222/blob/Assignments/exercise5.ipynb\" target=\"_parent\"><img src=\"https://colab.research.google.com/assets/colab-badge.svg\" alt=\"Open In Colab\"/></a>"
      ]
    },
    {
      "cell_type": "markdown",
      "metadata": {
        "id": "DN15rkKvhGBr"
      },
      "source": [
        "# Exercise 5"
      ]
    },
    {
      "cell_type": "markdown",
      "metadata": {
        "id": "oEys_5t7hGBt"
      },
      "source": [
        "#### 1. Create a dictionary of your 10 favorite songs."
      ]
    },
    {
      "cell_type": "markdown",
      "metadata": {
        "id": "T1iOtzXshGBu"
      },
      "source": [
        "Example:\n",
        "\n",
        "|KEY|VALUE|\n",
        "|---|---|\n",
        "|001|My Love|\n",
        "|002|Like a rose|"
      ]
    },
    {
      "cell_type": "code",
      "execution_count": 14,
      "metadata": {
        "id": "dprOhMRchGBu"
      },
      "outputs": [],
      "source": [
        "favourite_songs = {\n",
        "    \"001\": \"Buwan\",\n",
        "    \"002\": \"Potion for love\",\n",
        "    \"003\": \"Di na muli\",\n",
        "    \"004\": \"End of the world\",\n",
        "    \"005\": \"I don't want to set the world on fire\",\n",
        "    \"006\": \"I feel good\",\n",
        "    \"007\": \"24 karat\",\n",
        "    \"008\": \"Manghuhula\",\n",
        "    \"009\": \"Orasa\",\n",
        "    \"010\": \"Sampaguita\",\n",
        "}"
      ]
    },
    {
      "cell_type": "markdown",
      "metadata": {
        "id": "g1FstA7XhGBv"
      },
      "source": [
        "#### 2. Loop through the dictionary by its **key** and **value**"
      ]
    },
    {
      "cell_type": "code",
      "execution_count": 15,
      "metadata": {
        "id": "QgyUTiuHhGBv",
        "outputId": "5905f2cc-c426-42fe-e803-9ab8c4a74d8e",
        "colab": {
          "base_uri": "https://localhost:8080/"
        }
      },
      "outputs": [
        {
          "output_type": "stream",
          "name": "stdout",
          "text": [
            "KEYS\n",
            "001\n",
            "002\n",
            "003\n",
            "004\n",
            "005\n",
            "006\n",
            "007\n",
            "008\n",
            "009\n",
            "010\n",
            "VALUES\n",
            "Buwan\n",
            "Potion for love\n",
            "Di na muli\n",
            "End of the world\n",
            "I don't want to set the world on fire\n",
            "I feel good\n",
            "24 karat\n",
            "Manghuhula\n",
            "Orasa\n",
            "Sampaguita\n"
          ]
        }
      ],
      "source": [
        "print(\"KEYS\")\n",
        "for key in favourite_songs.keys():\n",
        "  print(key)\n",
        "\n",
        "print(\"VALUES\")\n",
        "for value in favourite_songs.values():\n",
        "  print(value)"
      ]
    },
    {
      "cell_type": "markdown",
      "metadata": {
        "id": "h5N_w8-yhGBw"
      },
      "source": [
        "#### 3. Add one additional song"
      ]
    },
    {
      "cell_type": "code",
      "execution_count": 16,
      "metadata": {
        "id": "oUXMAJWEhGBw"
      },
      "outputs": [],
      "source": [
        "favourite_songs[\"011\"] = \"bawat piyesa\""
      ]
    },
    {
      "cell_type": "markdown",
      "metadata": {
        "id": "7OlW5r9dhGBx"
      },
      "source": [
        "#### 4. Remove one song"
      ]
    },
    {
      "cell_type": "code",
      "execution_count": 19,
      "metadata": {
        "id": "g39mqwpDhGBx",
        "outputId": "9e298f3a-efbe-4801-8344-86475a7b5e8e",
        "colab": {
          "base_uri": "https://localhost:8080/",
          "height": 35
        }
      },
      "outputs": [
        {
          "output_type": "execute_result",
          "data": {
            "text/plain": [
              "'24 karat'"
            ],
            "application/vnd.google.colaboratory.intrinsic+json": {
              "type": "string"
            }
          },
          "metadata": {},
          "execution_count": 19
        }
      ],
      "source": [
        "favourite_songs.pop(\"007\")"
      ]
    },
    {
      "cell_type": "markdown",
      "metadata": {
        "id": "gZ8Sr1bzhGBy"
      },
      "source": [
        "#### 5. Create a nested dictionary of your 10 favorite songs with 5 genres. Display all of the items of the nested dictionary\n",
        "\n",
        "- Each nested dictionary's key should be the genre of the song\n",
        "- Put each song in their respective genre"
      ]
    },
    {
      "cell_type": "markdown",
      "metadata": {
        "id": "US1ZaaSJhGBy"
      },
      "source": [
        "Example:\n",
        "\n",
        "\n",
        "|KEY|VALUE|\n",
        "|---|---|\n",
        "|Pop|{001, Baby}|\n",
        "|Rock|{001, Enter Sandman}|"
      ]
    },
    {
      "cell_type": "code",
      "execution_count": 20,
      "metadata": {
        "id": "z577KULkhGBz"
      },
      "outputs": [],
      "source": [
        "favourite_songs_genre = {\n",
        "    \"OPM soft rock/ballad\": {\n",
        "        \"001\": \"Sampaguita\",\n",
        "        \"002\": \"Di na muli\",\n",
        "        \"003\": \"Orasa\",\n",
        "        \"004\": \"Di na muli\",\n",
        "    },\n",
        "\n",
        "    \"OPM Blues rock\": {\n",
        "        \"001\": \"Buwan\",\n",
        "        \"002\": \"Manghuhula\",\n",
        "    },\n",
        "\n",
        "    \"Pop\": {\n",
        "        \"001\": \"24 Karat\",\n",
        "        \"002\": \"I don't want to set the world on fire\",\n",
        "        \"002\": \"End of the world\"\n",
        "    },\n",
        "\n",
        "    \"Jazz\": {\n",
        "        \"001\": \"I feel good\"\n",
        "    },\n",
        "\n",
        "    \"Ballad\": {\n",
        "        \"001\": \"Potion for love\"\n",
        "    }\n",
        "}"
      ]
    },
    {
      "cell_type": "markdown",
      "metadata": {
        "id": "ZMgltzOkhGBz"
      },
      "source": [
        "#### 6. Print the first song of the first genre"
      ]
    },
    {
      "cell_type": "code",
      "execution_count": 21,
      "metadata": {
        "id": "nmXUGoNWhGBz",
        "outputId": "2715ab46-319f-4305-e5cd-069e4a3fa510",
        "colab": {
          "base_uri": "https://localhost:8080/"
        }
      },
      "outputs": [
        {
          "output_type": "stream",
          "name": "stdout",
          "text": [
            "Sampaguita\n"
          ]
        }
      ],
      "source": [
        "print(favourite_songs_genre[\"OPM soft rock/ballad\"][\"001\"])"
      ]
    },
    {
      "cell_type": "markdown",
      "metadata": {
        "id": "dEcgwp_ihGB0"
      },
      "source": [
        "#### 7. Print the first song of the last genre"
      ]
    },
    {
      "cell_type": "code",
      "execution_count": 22,
      "metadata": {
        "id": "ITbuWq2UhGB0",
        "outputId": "452c64b0-105b-43af-e5be-1845bf340077",
        "colab": {
          "base_uri": "https://localhost:8080/"
        }
      },
      "outputs": [
        {
          "output_type": "stream",
          "name": "stdout",
          "text": [
            "Potion for love\n"
          ]
        }
      ],
      "source": [
        "print(favourite_songs_genre[\"Ballad\"][\"001\"])"
      ]
    }
  ],
  "metadata": {
    "kernelspec": {
      "display_name": "Python 3",
      "language": "python",
      "name": "python3"
    },
    "language_info": {
      "codemirror_mode": {
        "name": "ipython",
        "version": 3
      },
      "file_extension": ".py",
      "mimetype": "text/x-python",
      "name": "python",
      "nbconvert_exporter": "python",
      "pygments_lexer": "ipython3",
      "version": "3.11.4"
    },
    "orig_nbformat": 4,
    "colab": {
      "provenance": [],
      "include_colab_link": true
    }
  },
  "nbformat": 4,
  "nbformat_minor": 0
}