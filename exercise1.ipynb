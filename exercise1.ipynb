{
  "cells": [
    {
      "cell_type": "markdown",
      "metadata": {
        "id": "view-in-github",
        "colab_type": "text"
      },
      "source": [
        "<a href=\"https://colab.research.google.com/github/LunabaLeeris/CCDATRCL_COM222/blob/Assignments/exercise1.ipynb\" target=\"_parent\"><img src=\"https://colab.research.google.com/assets/colab-badge.svg\" alt=\"Open In Colab\"/></a>"
      ]
    },
    {
      "cell_type": "markdown",
      "metadata": {
        "id": "h2vFiYhGzZOg"
      },
      "source": [
        "# Exercise 1"
      ]
    },
    {
      "cell_type": "markdown",
      "source": [
        "## Class Initialization"
      ],
      "metadata": {
        "id": "sRm6kPQozcaU"
      }
    },
    {
      "cell_type": "code",
      "execution_count": 1,
      "metadata": {
        "id": "b1u4Dt9mzZOi"
      },
      "outputs": [],
      "source": [
        "class Node:\n",
        "    def __init__(self, data):\n",
        "        self.data = data\n",
        "        self.next = None\n",
        "        self.prev = None"
      ]
    },
    {
      "cell_type": "code",
      "execution_count": 2,
      "metadata": {
        "id": "tigvHSaHzZOj"
      },
      "outputs": [],
      "source": [
        "class LinkedList:\n",
        "\n",
        "    def __init__(self):\n",
        "        self.head = None\n",
        "\n",
        "    def traverse(self, node):\n",
        "        while node:\n",
        "            print(node.data, end=\" -> \")\n",
        "            node = node.next"
      ]
    },
    {
      "cell_type": "code",
      "execution_count": 3,
      "metadata": {
        "id": "LIkQBioVzZOk"
      },
      "outputs": [],
      "source": [
        "class DoublyLinkedList:\n",
        "\n",
        "    def __init__(self):\n",
        "        self.head = None\n",
        "\n",
        "    def traverse(self, node):\n",
        "        while node:\n",
        "            print(node.data, end=\" <-> \")\n",
        "            node = node.next"
      ]
    },
    {
      "cell_type": "code",
      "execution_count": 4,
      "metadata": {
        "id": "zlxNT5EozZOl"
      },
      "outputs": [],
      "source": [
        "class CircularLinkedList:\n",
        "\n",
        "    def __init__(self):\n",
        "        self.head = None\n",
        "\n",
        "    def traverse(self, node):\n",
        "\n",
        "        last = node\n",
        "\n",
        "        while node:\n",
        "            print(node.data, end=\" -> \")\n",
        "            node = node.next\n",
        "\n",
        "            # Break to prevent infinite loop\n",
        "            if node == last:\n",
        "                break"
      ]
    },
    {
      "cell_type": "markdown",
      "source": [
        "# My work (Christian Lee Lunaba)"
      ],
      "metadata": {
        "id": "Xb_stsmPeG7K"
      }
    },
    {
      "cell_type": "code",
      "source": [
        "# Modified node class\n",
        "class MyNode:\n",
        "  def __init__(self, data, next=None, prev=None):\n",
        "    self.data = data\n",
        "    self.next = next\n",
        "    self.prev = prev"
      ],
      "metadata": {
        "id": "HwjODGyldj1B"
      },
      "execution_count": 5,
      "outputs": []
    },
    {
      "cell_type": "markdown",
      "metadata": {
        "id": "O68-Q1-bzZOl"
      },
      "source": [
        "#### 1. Create a Singly Linked list\n",
        "\n",
        "- Each node should contain your name and your seatmates in your row\n",
        "- Create at least 5 nodes\n",
        "- Traverse all nodes"
      ]
    },
    {
      "cell_type": "code",
      "execution_count": 6,
      "metadata": {
        "id": "pTcx_OuPzZOl",
        "colab": {
          "base_uri": "https://localhost:8080/"
        },
        "outputId": "93d1fab0-5bd9-4afe-9420-b5059ba3e85d"
      },
      "outputs": [
        {
          "output_type": "stream",
          "name": "stdout",
          "text": [
            "Lunaba -> Racho -> Lee -> Libunao -> Saralde -> "
          ]
        }
      ],
      "source": [
        "# Initialize LinkedList\n",
        "singly_ll = LinkedList()\n",
        "\n",
        "# Create the connections lunaba -> racho -> lee -> libunao -> saralde\n",
        "saralde = MyNode(\"Saralde\")\n",
        "libunao = MyNode(\"Libunao\", next=saralde)\n",
        "lee = MyNode(\"Lee\", next=libunao)\n",
        "racho = MyNode(\"Racho\", next=lee)\n",
        "lunaba = MyNode(\"Lunaba\", next=racho)\n",
        "\n",
        "# Connect the nodes to the head\n",
        "singly_ll.head = lunaba\n",
        "\n",
        "# Traverse\n",
        "singly_ll.traverse(lunaba)"
      ]
    },
    {
      "cell_type": "markdown",
      "metadata": {
        "id": "IFgwbdw_zZOm"
      },
      "source": [
        "#### 2. Create a Doubly Linked list\n",
        "\n",
        "- Each node should contain your name and your seatmates in your row\n",
        "- Create at least 5 nodes\n",
        "- Traverse all nodes"
      ]
    },
    {
      "cell_type": "code",
      "execution_count": 7,
      "metadata": {
        "id": "8kQD2A_QzZOm",
        "colab": {
          "base_uri": "https://localhost:8080/"
        },
        "outputId": "343642bc-9e6e-4396-d5ce-ab065cf35628"
      },
      "outputs": [
        {
          "output_type": "stream",
          "name": "stdout",
          "text": [
            "Lunaba <-> Racho <-> Lee <-> Libunao <-> Saralde <-> "
          ]
        }
      ],
      "source": [
        "# Initialize LinkedList\n",
        "doubly_ll = DoublyLinkedList()\n",
        "\n",
        "# Initialize the nodes\n",
        "lunaba, racho, lee, libunao, saralde\n",
        "\n",
        "# Create the nodes then connect them on both ends\n",
        "lunaba = MyNode(\"Lunaba\", next=racho)\n",
        "racho = MyNode(\"Racho\", next=lee, prev=lunaba)\n",
        "lee = MyNode(\"Lee\", next=libunao, prev=racho)\n",
        "libunao = MyNode(\"Libunao\", next=saralde, prev=lee)\n",
        "saralde = MyNode(\"Saralde\", prev=libunao)\n",
        "\n",
        "# Connect the nodes to the head\n",
        "doubly_ll.head = lunaba\n",
        "\n",
        "# Traverse\n",
        "doubly_ll.traverse(lunaba)"
      ]
    },
    {
      "cell_type": "markdown",
      "metadata": {
        "id": "rtApbsCjzZOm"
      },
      "source": [
        "#### 3. Create a Circular Linked list\n",
        "\n",
        "- Each node should contain your name and your seatmates in your row\n",
        "- Create at least 5 nodes\n",
        "- Traverse all nodes"
      ]
    },
    {
      "cell_type": "code",
      "execution_count": 8,
      "metadata": {
        "id": "Gp1Oiq0jzZOn",
        "colab": {
          "base_uri": "https://localhost:8080/"
        },
        "outputId": "88eaccdd-3e52-4595-93f2-df545ef4d80f"
      },
      "outputs": [
        {
          "output_type": "stream",
          "name": "stdout",
          "text": [
            "Lunaba -> Racho -> Lee -> Libunao -> Saralde -> "
          ]
        }
      ],
      "source": [
        "# Initialize LinkedList\n",
        "circular_ll = CircularLinkedList()\n",
        "\n",
        "# Create the connections lunaba -> racho -> lee -> libunao -> saralde -> (to lunaba)\n",
        "saralde = MyNode(\"Saralde\")\n",
        "libunao = MyNode(\"Libunao\", next=saralde)\n",
        "lee = MyNode(\"Lee\", next=libunao)\n",
        "racho = MyNode(\"Racho\", next=lee)\n",
        "lunaba = MyNode(\"Lunaba\", next=racho)\n",
        "\n",
        "# Circulate the ll by connecting last node to first: saralde -> lunaba\n",
        "saralde.next = lunaba\n",
        "\n",
        "# Traverse\n",
        "circular_ll.traverse(lunaba)"
      ]
    }
  ],
  "metadata": {
    "kernelspec": {
      "display_name": "Python 3",
      "language": "python",
      "name": "python3"
    },
    "language_info": {
      "name": "python",
      "version": "3.11.4"
    },
    "orig_nbformat": 4,
    "colab": {
      "provenance": [],
      "include_colab_link": true
    }
  },
  "nbformat": 4,
  "nbformat_minor": 0
}