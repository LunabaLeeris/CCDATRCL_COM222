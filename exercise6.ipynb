{
  "cells": [
    {
      "cell_type": "markdown",
      "metadata": {
        "id": "view-in-github",
        "colab_type": "text"
      },
      "source": [
        "<a href=\"https://colab.research.google.com/github/LunabaLeeris/CCDATRCL_COM222/blob/Assignments/exercise6.ipynb\" target=\"_parent\"><img src=\"https://colab.research.google.com/assets/colab-badge.svg\" alt=\"Open In Colab\"/></a>"
      ]
    },
    {
      "cell_type": "markdown",
      "metadata": {
        "id": "IvOO9Ik1lEcN"
      },
      "source": [
        "# Exercise 6"
      ]
    },
    {
      "cell_type": "markdown",
      "metadata": {
        "id": "gamVaR7GlEcT"
      },
      "source": [
        "#### Pre-defined code"
      ]
    },
    {
      "cell_type": "code",
      "execution_count": 1,
      "metadata": {
        "id": "0tTaqtvBlEcU"
      },
      "outputs": [],
      "source": [
        "class Node:\n",
        "    def __init__(self, item):\n",
        "        self.left = None\n",
        "        self.right = None\n",
        "        self.val = item"
      ]
    },
    {
      "cell_type": "code",
      "execution_count": 2,
      "metadata": {
        "id": "YjFYbD-zlEcX"
      },
      "outputs": [],
      "source": [
        "def inorder(root):\n",
        "\n",
        "    if root:\n",
        "        # Traverse left\n",
        "        inorder(root.left)\n",
        "        # Traverse root\n",
        "        print(str(root.val) + \"->\", end='')\n",
        "        # Traverse right\n",
        "        inorder(root.right)\n",
        "\n",
        "def postorder(root):\n",
        "\n",
        "    if root:\n",
        "        # Traverse left\n",
        "        postorder(root.left)\n",
        "        # Traverse right\n",
        "        postorder(root.right)\n",
        "        # Traverse root\n",
        "        print(str(root.val) + \"->\", end='')\n",
        "\n",
        "def preorder(root):\n",
        "\n",
        "    if root:\n",
        "        # Traverse root\n",
        "        print(str(root.val) + \"->\", end='')\n",
        "        # Traverse left\n",
        "        preorder(root.left)\n",
        "        # Traverse right\n",
        "        preorder(root.right)"
      ]
    },
    {
      "cell_type": "markdown",
      "metadata": {
        "id": "1P8sRGS5lEcY"
      },
      "source": [
        "#### 1. Construct Create your own company org chart and put yourself as CEO.\n",
        "\n",
        "Using a Tree data structure,\n",
        "\n",
        "- Assign yourself as CEO\n",
        "\n",
        "- Assign any of your classmate as HR Director\n",
        "- Assign any of your classmate as Sales Director\n",
        "\n",
        "- Assign any of your classmate as trainee. His/her boss is the HR Director\n",
        "- Assign any of your classmate as a staff and trainee. Their boss is the Sales Director\n"
      ]
    },
    {
      "cell_type": "markdown",
      "metadata": {
        "id": "G0oK2WzElEcY"
      },
      "source": [
        "<img src=\"https://thumbs.dreamstime.com/z/cartoon-organization-chart-some-company-93778925.jpg\"/>"
      ]
    },
    {
      "cell_type": "code",
      "execution_count": 3,
      "metadata": {
        "id": "M6iTEh5ilEcZ"
      },
      "outputs": [],
      "source": [
        "CEO = Node(\"Christian Lee\")\n",
        "HR = Node(\"Charles Angelo Racho\")\n",
        "Sales = Node(\"Sonya Lee\")\n",
        "Trainee = Node(\"Jezreel James Hallasgo\")\n",
        "Staff = Node(\"Elijah Jerdine\")\n",
        "Trainee_1 = Node(\"Renz Andrei Alis\")\n",
        "\n",
        "CEO.left = HR\n",
        "CEO.right = Sales\n",
        "\n",
        "HR.left = Trainee\n",
        "\n",
        "Sales.left = Staff\n",
        "Sales.right = Trainee_1"
      ]
    },
    {
      "cell_type": "markdown",
      "metadata": {
        "id": "d_p7dIUHlEcZ"
      },
      "source": [
        "#### 2. Traverse the tree in in-order traversal"
      ]
    },
    {
      "cell_type": "code",
      "execution_count": 4,
      "metadata": {
        "id": "CVlxBZWrlEca",
        "outputId": "b27a9425-7dd6-431e-870a-9d47a5fe7e0d",
        "colab": {
          "base_uri": "https://localhost:8080/"
        }
      },
      "outputs": [
        {
          "output_type": "stream",
          "name": "stdout",
          "text": [
            "Jezreel James Hallasgo->Charles Angelo Racho->Christian Lee->Elijah Jerdine->Sonya Lee->Renz Andrei Alis->"
          ]
        }
      ],
      "source": [
        "inorder(CEO)"
      ]
    },
    {
      "cell_type": "markdown",
      "metadata": {
        "id": "r9O1RMx1lEcb"
      },
      "source": [
        "#### 3. Traverse the tree in pre-order traversal"
      ]
    },
    {
      "cell_type": "code",
      "execution_count": 5,
      "metadata": {
        "id": "9nvZVQ7QlEcb",
        "outputId": "ff21f003-6c13-4b56-f898-bf4e95acf50c",
        "colab": {
          "base_uri": "https://localhost:8080/"
        }
      },
      "outputs": [
        {
          "output_type": "stream",
          "name": "stdout",
          "text": [
            "Christian Lee->Charles Angelo Racho->Jezreel James Hallasgo->Sonya Lee->Elijah Jerdine->Renz Andrei Alis->"
          ]
        }
      ],
      "source": [
        "preorder(CEO)"
      ]
    },
    {
      "cell_type": "markdown",
      "metadata": {
        "id": "-aOa2-pslEcb"
      },
      "source": [
        "#### 4. Traverse the tree in post-order traversal"
      ]
    },
    {
      "cell_type": "code",
      "execution_count": 6,
      "metadata": {
        "id": "v_lkdr8elEcc",
        "outputId": "6face687-a093-4ffc-bb00-fe80998540da",
        "colab": {
          "base_uri": "https://localhost:8080/"
        }
      },
      "outputs": [
        {
          "output_type": "stream",
          "name": "stdout",
          "text": [
            "Jezreel James Hallasgo->Charles Angelo Racho->Elijah Jerdine->Renz Andrei Alis->Sonya Lee->Christian Lee->"
          ]
        }
      ],
      "source": [
        "postorder(CEO)"
      ]
    }
  ],
  "metadata": {
    "kernelspec": {
      "display_name": "Python 3",
      "language": "python",
      "name": "python3"
    },
    "language_info": {
      "codemirror_mode": {
        "name": "ipython",
        "version": 3
      },
      "file_extension": ".py",
      "mimetype": "text/x-python",
      "name": "python",
      "nbconvert_exporter": "python",
      "pygments_lexer": "ipython3",
      "version": "3.11.4"
    },
    "orig_nbformat": 4,
    "colab": {
      "provenance": [],
      "include_colab_link": true
    }
  },
  "nbformat": 4,
  "nbformat_minor": 0
}