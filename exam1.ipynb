{
  "cells": [
    {
      "cell_type": "markdown",
      "metadata": {
        "id": "view-in-github",
        "colab_type": "text"
      },
      "source": [
        "<a href=\"https://colab.research.google.com/github/LunabaLeeris/CCDATRCL_COM222/blob/Exams/exam1.ipynb\" target=\"_parent\"><img src=\"https://colab.research.google.com/assets/colab-badge.svg\" alt=\"Open In Colab\"/></a>"
      ]
    },
    {
      "cell_type": "markdown",
      "metadata": {
        "id": "yaz2B0KGFehP"
      },
      "source": [
        "# Midterm Exam 💛💙"
      ]
    },
    {
      "cell_type": "markdown",
      "metadata": {
        "id": "_DmK1ONEFehQ"
      },
      "source": [
        "**Instructions** ❗️❗️\n",
        "\n",
        "❌ Do not remove or modify the notebook **sections**, **subsections**, **exam questions** or **any text** in this python notebook\n",
        "\n",
        "✔️ Put your answer in the designated cells below each question"
      ]
    },
    {
      "cell_type": "markdown",
      "metadata": {
        "id": "TMCAXKWCFehR"
      },
      "source": [
        "## Search"
      ]
    },
    {
      "cell_type": "code",
      "execution_count": 274,
      "metadata": {
        "id": "Fy8nEBRRFehR"
      },
      "outputs": [],
      "source": [
        "def linearSearch(my_list, number):\n",
        "\n",
        "    index = 0\n",
        "\n",
        "    for i in my_list:\n",
        "\n",
        "        if my_list[index] == number:\n",
        "            return index\n",
        "\n",
        "        index = index + 1\n",
        "\n",
        "    return -1"
      ]
    },
    {
      "cell_type": "markdown",
      "metadata": {
        "id": "AjAevpueFehS"
      },
      "source": [
        "1. Using **linear search**, write a `findLargestIncrease()` function to find the largest increase in value between two adjacent numbers in your student number `(10 points)`\n",
        "\n",
        "    **Example:**\n",
        "\n",
        "    student_number = [2,0,2,2,6,2,5,1,9,3]\n",
        "\n",
        "    **Expected Output:**\n",
        "\n",
        "    findLargestIncrease(student_number)\n",
        "\n",
        "    Output: Between 1 and 9\n",
        "\n",
        "    **Explanation:**\n",
        "\n",
        "    From this student_number, the largest increase happened from number 1 to number 9"
      ]
    },
    {
      "cell_type": "code",
      "execution_count": 321,
      "metadata": {
        "id": "JE8nEfyJFehS",
        "colab": {
          "base_uri": "https://localhost:8080/"
        },
        "outputId": "8b9886be-4156-4473-c73b-c35efb479f76"
      },
      "outputs": [
        {
          "output_type": "stream",
          "name": "stdout",
          "text": [
            "Between 0 and 8\n"
          ]
        }
      ],
      "source": [
        "# put your answer here\n",
        "student_number = [2, 0, 2, 2, 1, 0, 8, 0, 1, 3]\n",
        "\n",
        "def findLargestIncrease(arr):\n",
        "  max = 0\n",
        "\n",
        "  for i in range(len(arr) - 1):\n",
        "    if arr[max + 1] - arr[max] < arr[i + 1] - arr[i]:\n",
        "      max = i\n",
        "\n",
        "  print(f\"Between {arr[max]} and {arr[max + 1]}\")\n",
        "\n",
        "findLargestIncrease(student_number)"
      ]
    },
    {
      "cell_type": "markdown",
      "metadata": {
        "id": "nMyr1fNyFehS"
      },
      "source": [
        "2. Using **linear search**, write a `findLargestDecrease()` function to find the largest decrease in value between two adjacent numbers in your student number `(10 points)`\n",
        "\n",
        "    **Example:**\n",
        "\n",
        "    student_number = [2,0,2,2,6,2,5,1,9,3]\n",
        "\n",
        "    **Expected Output:**\n",
        "\n",
        "    findLargestDecrease(student_number)\n",
        "\n",
        "    Output: Between 9 and 3\n",
        "\n",
        "    **Explanation:**\n",
        "\n",
        "    From this student_number, the largest decrease happened from number 9 to number 3"
      ]
    },
    {
      "cell_type": "code",
      "execution_count": 322,
      "metadata": {
        "id": "bfMfQVbVFehS",
        "colab": {
          "base_uri": "https://localhost:8080/"
        },
        "outputId": "ca76c7c0-8849-4862-ebdb-3192cf695836"
      },
      "outputs": [
        {
          "output_type": "stream",
          "name": "stdout",
          "text": [
            "Between 8 and 0\n"
          ]
        }
      ],
      "source": [
        "# put your answer here\n",
        "def findLargestDecrease(arr):\n",
        "  max = 0\n",
        "\n",
        "  for i in range(len(arr) - 1):\n",
        "    if arr[max] - arr[max + 1] < arr[i] - arr[i + 1]:\n",
        "      max = i\n",
        "\n",
        "  print(f\"Between {arr[max]} and {arr[max + 1]}\")\n",
        "\n",
        "findLargestDecrease(student_number)"
      ]
    },
    {
      "cell_type": "markdown",
      "metadata": {
        "id": "NtKSQn9QFehS"
      },
      "source": [
        "## Linked List"
      ]
    },
    {
      "cell_type": "code",
      "execution_count": 277,
      "metadata": {
        "id": "0HP5zyJcFehS"
      },
      "outputs": [],
      "source": [
        "class Node:\n",
        "\n",
        "    def __init__(self, data):\n",
        "        self.data = data\n",
        "        self.next = None  # null"
      ]
    },
    {
      "cell_type": "code",
      "execution_count": 278,
      "metadata": {
        "id": "A-8Uefe7FehS"
      },
      "outputs": [],
      "source": [
        "class LinkedList:\n",
        "\n",
        "    def __init__(self):\n",
        "        self.head = None\n",
        "\n",
        "    def traverse(self, node):\n",
        "        while node:\n",
        "            print(node.data, end=\" -> \")\n",
        "            node = node.next"
      ]
    },
    {
      "cell_type": "markdown",
      "metadata": {
        "id": "uPgIJJuSFehT"
      },
      "source": [
        "**Instructions** ❗️❗️\n",
        "\n",
        "Use the pre-defined linked list class/functions to create a linked list"
      ]
    },
    {
      "cell_type": "markdown",
      "metadata": {
        "id": "WIwpW7Q2FehT"
      },
      "source": [
        "1. Create a Singly linked list named **num_list** and print all of its elements. `(5 points)`\n",
        "\n",
        "- **num_list** should contain all digits of your student number.\n",
        "\n",
        "    **Expected Output:**\n",
        "\n",
        "    print(num_list)\n",
        "\n",
        "    [2, 0, 2, 2, 1, 2, 3, 4, 5, 6]"
      ]
    },
    {
      "cell_type": "code",
      "execution_count": 279,
      "metadata": {
        "id": "Lihv0JPiFehT",
        "colab": {
          "base_uri": "https://localhost:8080/"
        },
        "outputId": "541a1944-12f7-465e-c330-57c5f2045684"
      },
      "outputs": [
        {
          "output_type": "stream",
          "name": "stdout",
          "text": [
            "2 -> 0 -> 2 -> 2 -> 1 -> 0 -> 8 -> 0 -> 1 -> 3 -> "
          ]
        }
      ],
      "source": [
        "# put your answer\n",
        "num_list = LinkedList()\n",
        "\n",
        "for num in student_number[::-1]:\n",
        "  temp = num_list.head\n",
        "  num_list.head = Node(num)\n",
        "  num_list.head.next = temp\n",
        "\n",
        "num_list.traverse(num_list.head)"
      ]
    },
    {
      "cell_type": "markdown",
      "metadata": {
        "id": "dqA2UYrYFehT"
      },
      "source": [
        "2. Write a `hasPrime()` function to test whether a prime number is in the last six digits of **num_list**. `(5 points)`\n",
        "\n",
        "- If a prime number is in the last six digits of **num_list**, the method should return **true**\n",
        "\n",
        "- If a prime number is not in the last six digits of **num_list**, the method should return **false**\n",
        "\n",
        "    **Expected Output:**\n",
        "\n",
        "    hasPrime(num_list)\n",
        "\n",
        "    True"
      ]
    },
    {
      "cell_type": "code",
      "execution_count": 280,
      "metadata": {
        "id": "GYwsQNz5FehT",
        "colab": {
          "base_uri": "https://localhost:8080/"
        },
        "outputId": "76b1d09c-a424-4a3c-ecba-bc17f0913a1b"
      },
      "outputs": [
        {
          "output_type": "stream",
          "name": "stdout",
          "text": [
            "True\n",
            "2 -> 0 -> 2 -> 2 -> 1 -> 0 -> 8 -> 0 -> 1 -> 3 -> "
          ]
        }
      ],
      "source": [
        "# Generalized\n",
        "def hasPrime(linked_list):\n",
        "  node = linked_list.head\n",
        "  # Holds the last 6 digits of the given ll\n",
        "  size, tail = 0, Node(\"dummy\")\n",
        "\n",
        "  last_six_digits = LinkedList()\n",
        "  last_six_digits.head = tail\n",
        "\n",
        "  while node:\n",
        "    # ensures that we are only holding 6 digits\n",
        "    if size > 6:\n",
        "      last_six_digits.head = last_six_digits.head.next\n",
        "\n",
        "    tail.next = Node(node.data)\n",
        "    tail = tail.next\n",
        "\n",
        "    node = node.next\n",
        "    size += 1\n",
        "\n",
        "  while last_six_digits.head:\n",
        "    if (last_six_digits.head.data in [3, 5, 7]):\n",
        "      return print(\"True\")\n",
        "\n",
        "    last_six_digits.head = last_six_digits.head.next\n",
        "\n",
        "  return print(\"False\")\n",
        "\n",
        "hasPrime(num_list)\n",
        "num_list.traverse(num_list.head)"
      ]
    },
    {
      "cell_type": "markdown",
      "metadata": {
        "id": "5Qb0BOiwFehT"
      },
      "source": [
        "3. Write a `removeZeroes()` function to remove all occurrences of zeroes in **num_list**. `(5 points)`\n",
        "\n",
        "- If a zero is in **num_list**, return **num_list**\n",
        "\n",
        "- If there are no zeroes in **num_list**, return **\"no zeros found\"**\n",
        "\n",
        "    **Expected Output:**\n",
        "\n",
        "    removeZeroes(num_list)\n",
        "\n",
        "    [2, 2, 1, 2, 3, 4, 5, 6]"
      ]
    },
    {
      "cell_type": "code",
      "execution_count": 281,
      "metadata": {
        "id": "k1vAHUYuFehT",
        "colab": {
          "base_uri": "https://localhost:8080/"
        },
        "outputId": "87ddf998-2456-46a2-abff-6b2399e3b7df"
      },
      "outputs": [
        {
          "output_type": "stream",
          "name": "stdout",
          "text": [
            "[2, 2, 2, 1, 8, 1, 3]\n"
          ]
        }
      ],
      "source": [
        "def removeZeroes(linked_list):\n",
        "  dummy = Node(\"dummy\")\n",
        "  dummy.next = linked_list.head\n",
        "  curr = dummy\n",
        "  found = False\n",
        "  output = []\n",
        "\n",
        "  # removes all zeroes in the given ll while updating output\n",
        "  while curr.next:\n",
        "    if curr.next.data == 0:\n",
        "      found = True\n",
        "      curr.next = curr.next.next\n",
        "\n",
        "    curr = curr.next\n",
        "    output.append(curr.data)\n",
        "\n",
        "  linked_list.head = dummy.next\n",
        "\n",
        "  # print the result\n",
        "  print(output if found else \"no zeroes found\")\n",
        "\n",
        "removeZeroes(num_list)"
      ]
    },
    {
      "cell_type": "markdown",
      "metadata": {
        "id": "SKAlpglNFehT"
      },
      "source": [
        "4. Insert a dash symbol between the 4th and 5th digit in **num_list**. `(5 points)`\n",
        "\n",
        "    **Expected Output:**\n",
        "\n",
        "    print(num_list)\n",
        "\n",
        "    [2, 0, 2, 2, \"-\", 1, 2, 3, 4, 5, 6]"
      ]
    },
    {
      "cell_type": "code",
      "execution_count": 282,
      "metadata": {
        "id": "vF7fimZ-FehT",
        "colab": {
          "base_uri": "https://localhost:8080/"
        },
        "outputId": "cf513f32-b2c6-477c-e52e-ce560cc9b0a0"
      },
      "outputs": [
        {
          "output_type": "stream",
          "name": "stdout",
          "text": [
            "2 -> 2 -> 2 -> 1 -> - -> 8 -> 1 -> 3 -> "
          ]
        }
      ],
      "source": [
        "# put your answer here\n",
        "\n",
        "def insert_in_between(linked_list):\n",
        "  node = linked_list.head\n",
        "\n",
        "  # traverse to fourth position\n",
        "  for i in range(1, 4):\n",
        "    if not node:\n",
        "      return \"length of linked list is too small\"\n",
        "\n",
        "    node = node.next\n",
        "\n",
        "  # insert the dash\n",
        "  temp = node.next\n",
        "  node.next = Node(\"-\")\n",
        "  node.next.next = temp\n",
        "\n",
        "# Note that we already removed the zeroes from previous problem\n",
        "insert_in_between(num_list)\n",
        "num_list.traverse(num_list.head)"
      ]
    },
    {
      "cell_type": "markdown",
      "metadata": {
        "id": "KkC-LgdxFehT"
      },
      "source": [
        "## Stack"
      ]
    },
    {
      "cell_type": "code",
      "execution_count": 283,
      "metadata": {
        "id": "UYTqB1u_FehU"
      },
      "outputs": [],
      "source": [
        "# Creating a stack\n",
        "def create_stack():\n",
        "    stack = []\n",
        "    return stack\n",
        "\n",
        "\n",
        "def print_stack(stack):\n",
        "\n",
        "    if (check_empty(stack)):\n",
        "        return \"stack is empty\"\n",
        "\n",
        "    # Create a copy of the stack and reverse the elements\n",
        "    tempStack = stack.copy()\n",
        "    tempStack.reverse()\n",
        "\n",
        "    # Print all elements using a loop\n",
        "    for i in tempStack:\n",
        "        print(i)\n",
        "\n",
        "    # Delete the copy to free up memory\n",
        "    del tempStack\n",
        "\n",
        "# Creating an empty stack\n",
        "\n",
        "\n",
        "def check_empty(stack):\n",
        "    return len(stack) == 0\n",
        "\n",
        "\n",
        "# Adding items into the stack\n",
        "def push(stack, item):\n",
        "    stack.append(item)\n",
        "    print(\"pushed item: \" + item)\n",
        "\n",
        "\n",
        "# Removing an element from the stack\n",
        "def pop(stack):\n",
        "    if (check_empty(stack)):\n",
        "        return \"stack is empty\"\n",
        "\n",
        "    return stack.pop()\n",
        "\n",
        "\n",
        "def peek(stack):\n",
        "    # Use negative indexing to display the last element of the list\n",
        "    print(stack[-1])"
      ]
    },
    {
      "cell_type": "markdown",
      "metadata": {
        "id": "wLAQchs8FehU"
      },
      "source": [
        "**Instructions** ❗️❗️\n",
        "\n",
        "Use the pre-defined stack class/functions to create a stack"
      ]
    },
    {
      "cell_type": "markdown",
      "metadata": {
        "id": "37cg9BoCFehU"
      },
      "source": [
        "1. Create two (2) stacks named **name_stack** and **num_stack** `(5 points)`\n",
        "\n",
        "- **name_stack** should contain all letters of your first name.\n",
        "- **num_stack** should contain all digits of your student number.\n",
        "\n",
        "    **Expected Output:**\n",
        "\n",
        "    print(name_stack)\n",
        "\n",
        "    ['E', 'L', 'I', 'Z', 'E', 'R']\n",
        "\n",
        "    print(num_stack)\n",
        "\n",
        "    [2,0,2,2,1,2,3,4,5,6]"
      ]
    },
    {
      "cell_type": "code",
      "execution_count": 284,
      "metadata": {
        "id": "HlUIUQzQFehU",
        "colab": {
          "base_uri": "https://localhost:8080/"
        },
        "outputId": "50f143ed-3818-408b-b99f-2566b67f4c65"
      },
      "outputs": [
        {
          "output_type": "stream",
          "name": "stdout",
          "text": [
            "pushed item: C\n",
            "pushed item: H\n",
            "pushed item: R\n",
            "pushed item: I\n",
            "pushed item: S\n",
            "pushed item: T\n",
            "pushed item: I\n",
            "pushed item: A\n",
            "pushed item: N\n",
            "pushed item: 2\n",
            "pushed item: 0\n",
            "pushed item: 2\n",
            "pushed item: 2\n",
            "pushed item: 1\n",
            "pushed item: 0\n",
            "pushed item: 8\n",
            "pushed item: 0\n",
            "pushed item: 1\n",
            "pushed item: 3\n",
            "['C', 'H', 'R', 'I', 'S', 'T', 'I', 'A', 'N']\n",
            "['2', '0', '2', '2', '1', '0', '8', '0', '1', '3']\n"
          ]
        }
      ],
      "source": [
        "# put your answer here\n",
        "name_stack = create_stack()\n",
        "num_stack = create_stack()\n",
        "\n",
        "for char in ['C', 'H', 'R', 'I', 'S', 'T', 'I', 'A', 'N']:\n",
        "  push(name_stack, char)\n",
        "\n",
        "# Implementation throws an error if a number is used so I used string instead\n",
        "for num in ['2', '0', '2', '2', '1', '0', '8', '0', '1', '3']:\n",
        "  push(num_stack, num)\n",
        "\n",
        "print(name_stack)\n",
        "print(num_stack)"
      ]
    },
    {
      "cell_type": "markdown",
      "metadata": {
        "id": "8cySe9LXFehU"
      },
      "source": [
        "2. Create a stack named **my_stack** that follows the following format: `(5 points)`\n",
        "\n",
        "- The first element should be the **5th digit in your student number**\n",
        "- The succeeding elements should be the letters of your **first name**\n",
        "- The last element should be the **last digit of your student number**\n",
        "\n",
        "    **Expected Output:**\n",
        "\n",
        "    my_stack = [1, E, L, I, Z, E, R, 6]"
      ]
    },
    {
      "cell_type": "code",
      "execution_count": 285,
      "metadata": {
        "id": "bEnCoAhjFehU",
        "colab": {
          "base_uri": "https://localhost:8080/"
        },
        "outputId": "8f7149e0-2b94-45e6-989b-02cd181d6097"
      },
      "outputs": [
        {
          "output_type": "stream",
          "name": "stdout",
          "text": [
            "pushed item: N\n",
            "pushed item: A\n",
            "pushed item: I\n",
            "pushed item: T\n",
            "pushed item: S\n",
            "pushed item: I\n",
            "pushed item: R\n",
            "pushed item: H\n",
            "pushed item: C\n",
            "pushed item: 2\n",
            "pushed item: C\n",
            "pushed item: H\n",
            "pushed item: R\n",
            "pushed item: I\n",
            "pushed item: S\n",
            "pushed item: T\n",
            "pushed item: I\n",
            "pushed item: A\n",
            "pushed item: N\n",
            "pushed item: 3\n",
            "['2', 'C', 'H', 'R', 'I', 'S', 'T', 'I', 'A', 'N', '3']\n"
          ]
        }
      ],
      "source": [
        "import copy\n",
        "\n",
        "# Create a copy so we don't change the original stacks for future use\n",
        "copy_name_stack = copy.deepcopy(name_stack)\n",
        "copy_num_stack = copy.deepcopy(num_stack)\n",
        "\n",
        "# store the last number\n",
        "last_digit = pop(copy_num_stack)\n",
        "\n",
        "# add the copy_name_stack to a spare stack to reverse it\n",
        "spare_stack = create_stack()\n",
        "\n",
        "while not check_empty(copy_name_stack):\n",
        "  push(spare_stack, pop(copy_name_stack))\n",
        "\n",
        "# combine\n",
        "my_stack = create_stack()\n",
        "\n",
        "# get the first num\n",
        "first_digit = None\n",
        "while not check_empty(copy_num_stack):\n",
        "  first_digit = pop(copy_num_stack)\n",
        "\n",
        "# push the first digit\n",
        "push(my_stack, first_digit)\n",
        "\n",
        "# push the first name\n",
        "while not check_empty(spare_stack):\n",
        "  push(my_stack, pop(spare_stack))\n",
        "\n",
        "# push last digit\n",
        "push(my_stack, last_digit)\n",
        "\n",
        "print(my_stack)"
      ]
    },
    {
      "cell_type": "markdown",
      "metadata": {
        "id": "8a8_KP5nFehU"
      },
      "source": [
        "3. Write a `verifyStack()` function that will take in `my_stack` and check if its format has been followed `(10 points)`\n",
        "\n",
        "- Return **True** if the format has been followed\n",
        "- Return **False** if the format was not followed\n",
        "- Verify the format by checking the contents of **my_stack** with **name_stack** and **num_stack**\n",
        "\n",
        "    **Expected Output:**\n",
        "\n",
        "    my_stack = [1, E, L, I, Z, E, R, 6]\n",
        "\n",
        "    verifyStack(my_stack)\n",
        "\n",
        "    True\n",
        "\n",
        "    my_stack = [1, S, L, I, Z, E, R, 7]\n",
        "\n",
        "    verifyStack(my_stack)\n",
        "\n",
        "    False"
      ]
    },
    {
      "cell_type": "code",
      "execution_count": 286,
      "metadata": {
        "id": "RdANSxD0FehU",
        "colab": {
          "base_uri": "https://localhost:8080/"
        },
        "outputId": "08a261f0-08a6-4d1c-a400-a7e352a12927"
      },
      "outputs": [
        {
          "output_type": "stream",
          "name": "stdout",
          "text": [
            "True\n",
            "False\n"
          ]
        }
      ],
      "source": [
        "# put your answer here\n",
        "\n",
        "def verify_stack(stack):\n",
        "  print(stack[0] == num_stack[0] and stack[1:-1] == name_stack[::] and stack[-1] == num_stack[-1])\n",
        "\n",
        "verify_stack(my_stack)\n",
        "verify_stack(['1', \"C\", \"H\", \"r\", \"I\", \"2\"])"
      ]
    },
    {
      "cell_type": "markdown",
      "metadata": {
        "id": "UC5C64B2FehU"
      },
      "source": [
        "## Queue"
      ]
    },
    {
      "cell_type": "code",
      "execution_count": 287,
      "metadata": {
        "id": "NJJ0j0LHFehU"
      },
      "outputs": [],
      "source": [
        "class Queue:\n",
        "    def __init__(self):\n",
        "        self.queue = []\n",
        "\n",
        "    # Add an element\n",
        "    def enqueue(self, item):\n",
        "        self.queue.append(item)\n",
        "\n",
        "    # Remove an element\n",
        "    def dequeue(self):\n",
        "        if len(self.queue) < 1:\n",
        "            return None\n",
        "        return self.queue.pop(0)\n",
        "\n",
        "    # Display  the queue\n",
        "    def display(self):\n",
        "        print(self.queue)\n",
        "\n",
        "    def size(self):\n",
        "        return len(self.queue)\n",
        "\n",
        "    def peek(self):\n",
        "        return self.queue[0]"
      ]
    },
    {
      "cell_type": "markdown",
      "metadata": {
        "id": "80OekpbeFehV"
      },
      "source": [
        "**Instructions** ❗️❗️\n",
        "\n",
        "Use the pre-defined queue class/functions to create a Queue"
      ]
    },
    {
      "cell_type": "markdown",
      "metadata": {
        "id": "_Hf0OP5cFehV"
      },
      "source": [
        "1. Create a simple queue named **num_queue** `(5 points)`\n",
        "\n",
        "- **num_queue** should contain all digits of your student number.\n",
        "\n",
        "    **Expected Output:**\n",
        "\n",
        "    print(num_queue)\n",
        "\n",
        "    [2,0,2,2,1,2,3,4,5,6]"
      ]
    },
    {
      "cell_type": "code",
      "execution_count": 288,
      "metadata": {
        "id": "_mgmE4ArFehV",
        "colab": {
          "base_uri": "https://localhost:8080/"
        },
        "outputId": "686d8c52-1c0d-445f-ff87-48c8d39d5923"
      },
      "outputs": [
        {
          "output_type": "stream",
          "name": "stdout",
          "text": [
            "[2, 0, 2, 2, 1, 0, 8, 0, 1, 3]\n"
          ]
        }
      ],
      "source": [
        "# put your answer here\n",
        "num_queue = Queue()\n",
        "\n",
        "for num in [2, 0, 2, 2, 1, 0, 8, 0, 1, 3]:\n",
        "  num_queue.enqueue(num)\n",
        "\n",
        "num_queue.display()"
      ]
    },
    {
      "cell_type": "markdown",
      "metadata": {
        "id": "1pHG8t6DFehV"
      },
      "source": [
        "2. Write a `getMax()` or `getMin()` function for **num_queue** `(5 points)`\n",
        "\n",
        "- If your student number ends with an odd number, create a `getMax()` function that will return the largest number in **num_queue**\n",
        "- If your student number ends with an even number, create a `getMin()` function that will return the lowest number in **num_queue**\n",
        "\n",
        "    **Expected Output for getMax():**\n",
        "\n",
        "    getMax(num_queue)\n",
        "\n",
        "    6\n",
        "\n",
        "    **Expected Output for getMin():**\n",
        "\n",
        "    getMin(num_queue)\n",
        "\n",
        "    0"
      ]
    },
    {
      "cell_type": "code",
      "execution_count": 289,
      "metadata": {
        "id": "itj2U610FehV",
        "colab": {
          "base_uri": "https://localhost:8080/"
        },
        "outputId": "0d7ddcf3-3f5e-4cac-f9e5-58b21956eafe"
      },
      "outputs": [
        {
          "output_type": "stream",
          "name": "stdout",
          "text": [
            "8\n"
          ]
        }
      ],
      "source": [
        "def getMax(queue):\n",
        "  max = 0\n",
        "\n",
        "  for i in range(queue.size()):\n",
        "    if queue.peek() > max:\n",
        "      max = queue.peek()\n",
        "\n",
        "    queue.enqueue(queue.dequeue())\n",
        "\n",
        "  print(max)\n",
        "\n",
        "getMax(num_queue)"
      ]
    },
    {
      "cell_type": "markdown",
      "metadata": {
        "id": "YkgmP6GwFehV"
      },
      "source": [
        "3. Write a `getOdd()` or `getEven()` function for  **num_queue** `(5 points)`\n",
        "\n",
        "- If your student number ends with an **odd number**, create a `getOdd()` function that will return all odd numbers in **num_queue**\n",
        "- If your student number ends with an **even number**, create a `getEven()` function that will return all even numbers in **num_queue**\n",
        "\n",
        "    **Expected Output for getOdd():**\n",
        "\n",
        "    getOdd(num_queue)\n",
        "\n",
        "    [1, 3, 5]\n",
        "\n",
        "    **Expected Output for getEven():**\n",
        "\n",
        "    getEven(num_queue)\n",
        "\n",
        "    [0, 2, 4, 6]"
      ]
    },
    {
      "cell_type": "code",
      "execution_count": 290,
      "metadata": {
        "id": "2Bc7E1zNFehV",
        "colab": {
          "base_uri": "https://localhost:8080/"
        },
        "outputId": "45ff4817-582c-40a6-ef7d-24e4b9de3790"
      },
      "outputs": [
        {
          "output_type": "stream",
          "name": "stdout",
          "text": [
            "[1, 1, 3]\n"
          ]
        }
      ],
      "source": [
        "# put your answer here\n",
        "\n",
        "def getOdd(queue):\n",
        "  output = []\n",
        "\n",
        "  for i in range(queue.size()):\n",
        "    if queue.peek() % 2 > 0:\n",
        "      output.append(queue.peek())\n",
        "\n",
        "    queue.enqueue(queue.dequeue())\n",
        "\n",
        "  print(output)\n",
        "\n",
        "getOdd(num_queue)"
      ]
    },
    {
      "cell_type": "markdown",
      "metadata": {
        "id": "kuzWF5g4FehV"
      },
      "source": [
        "4. Write a `removeDup()` function that will remove all duplicates in **num_queue** `(5 points)`\n",
        "\n",
        "    **Expected Output:**\n",
        "\n",
        "    removeDup(num_queue)\n",
        "\n",
        "    [2,0,1,3,4,5,6]"
      ]
    },
    {
      "cell_type": "code",
      "execution_count": 291,
      "metadata": {
        "id": "I8LeQP8MFehY",
        "colab": {
          "base_uri": "https://localhost:8080/"
        },
        "outputId": "7764479c-87fa-498b-a213-eb53e070cf17"
      },
      "outputs": [
        {
          "output_type": "stream",
          "name": "stdout",
          "text": [
            "[2, 8, 0, 1, 3]\n"
          ]
        }
      ],
      "source": [
        "# put your answer here\n",
        "\n",
        "def removeDup(queue):\n",
        "  for i in range(queue.size()):\n",
        "    val = queue.dequeue()\n",
        "\n",
        "    if val in queue.queue:\n",
        "      continue\n",
        "\n",
        "    queue.enqueue(val)\n",
        "\n",
        "  queue.display()\n",
        "\n",
        "removeDup(num_queue)"
      ]
    },
    {
      "cell_type": "markdown",
      "metadata": {
        "id": "LVfZTh8YFehZ"
      },
      "source": [
        "## Sort"
      ]
    },
    {
      "cell_type": "markdown",
      "metadata": {
        "id": "bm9lonfzFehZ"
      },
      "source": [
        "**Instructions** ❗️❗️\n",
        "\n",
        "Use the any sorting algoritms"
      ]
    },
    {
      "cell_type": "markdown",
      "metadata": {
        "id": "EJTlxhEdFehZ"
      },
      "source": [
        "1. Using any sorting algorithm, sort the **last 6 digits** of your student number in ascending order `(5 points)`\n",
        "\n",
        "    **Example:**\n",
        "\n",
        "    student_number = [2,0,2,2,6,2,5,1,3,4]\n",
        "\n",
        "    **Expected Output:**\n",
        "\n",
        "    print(student_number)\n",
        "\n",
        "    [2,0,2,2,1,2,3,4,5,6]\n"
      ]
    },
    {
      "cell_type": "code",
      "execution_count": 316,
      "metadata": {
        "id": "MkZKfveOFehZ",
        "colab": {
          "base_uri": "https://localhost:8080/"
        },
        "outputId": "212d0b55-9a09-4a1e-a3fd-89269de9287a"
      },
      "outputs": [
        {
          "output_type": "stream",
          "name": "stdout",
          "text": [
            "[2, 0, 2, 2, 0, 0, 1, 1, 3, 8]\n"
          ]
        }
      ],
      "source": [
        "# put your answer\n",
        "student_number = [2,0,2,2,1,0,8,0,1,3]\n",
        "\n",
        "def counting_sort(arr):\n",
        "  count = [0]*10\n",
        "  sorted = [0]*len(arr)\n",
        "\n",
        "  for i in arr:\n",
        "    count[i] += 1\n",
        "\n",
        "  for i in range(1, 10):\n",
        "    count[i] += count[i - 1]\n",
        "\n",
        "  for i in arr[-1::-1]:\n",
        "    sorted[count[i] - 1] = i\n",
        "    count[i] -= 1\n",
        "\n",
        "  return sorted\n",
        "\n",
        "student_number = student_number[:-6] + counting_sort(student_number[-6:])\n",
        "print(student_number)"
      ]
    },
    {
      "cell_type": "markdown",
      "metadata": {
        "id": "sC2JZRZMFehZ"
      },
      "source": [
        "2. Using your student_number, separately sort the even numbers in **increasing order** and the odd numbers in **decreasing order** `(15 points)`\n",
        "\n",
        "    **Example:**\n",
        "\n",
        "    student_number = [2,0,2,2,1,2,3,4,5,6]\n",
        "\n",
        "    **Expected Output:**\n",
        "\n",
        "    print(student_number)\n",
        "\n",
        "    [0,2,2,2,2,4,6,5,3,1]"
      ]
    },
    {
      "cell_type": "code",
      "execution_count": 318,
      "metadata": {
        "id": "hWOh_ohcFehZ",
        "colab": {
          "base_uri": "https://localhost:8080/"
        },
        "outputId": "c6c4fd3c-fd59-48ff-945b-398eabed9956"
      },
      "outputs": [
        {
          "output_type": "stream",
          "name": "stdout",
          "text": [
            "[0, 0, 0, 2, 2, 2, 8, 3, 1, 1]\n"
          ]
        }
      ],
      "source": [
        "# put your answer here\n",
        "odd = []\n",
        "even = []\n",
        "\n",
        "def insertToOdd(num):\n",
        "  # decreasing\n",
        "  j = len(odd) - 1\n",
        "  odd.append(0)\n",
        "\n",
        "  while j >= 0 and num > odd[j]:\n",
        "    odd[j + 1] = odd[j]\n",
        "    j -= 1\n",
        "\n",
        "  odd[j + 1] = num\n",
        "\n",
        "def insertToEven(num):\n",
        "  # increasing\n",
        "  j = len(even) - 1\n",
        "  even.append(0)\n",
        "\n",
        "  while j >= 0 and num < even[j]:\n",
        "    even[j + 1] = even[j]\n",
        "    j -= 1\n",
        "\n",
        "  even[j + 1] = num\n",
        "\n",
        "# Insert depending whether the number is odd or even\n",
        "for num in student_number:\n",
        "  insertToOdd(num) if num % 2 != 0 else insertToEven(num)\n",
        "\n",
        "increase_decrease_order = even + odd\n",
        "print(increase_decrease_order)"
      ]
    }
  ],
  "metadata": {
    "kernelspec": {
      "display_name": "Python 3",
      "language": "python",
      "name": "python3"
    },
    "language_info": {
      "codemirror_mode": {
        "name": "ipython",
        "version": 3
      },
      "file_extension": ".py",
      "mimetype": "text/x-python",
      "name": "python",
      "nbconvert_exporter": "python",
      "pygments_lexer": "ipython3",
      "version": "3.9.13"
    },
    "orig_nbformat": 4,
    "colab": {
      "provenance": [],
      "include_colab_link": true
    }
  },
  "nbformat": 4,
  "nbformat_minor": 0
}