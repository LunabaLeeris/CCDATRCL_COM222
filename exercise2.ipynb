{
  "cells": [
    {
      "cell_type": "markdown",
      "metadata": {
        "id": "view-in-github",
        "colab_type": "text"
      },
      "source": [
        "<a href=\"https://colab.research.google.com/github/LunabaLeeris/CCDATRCL_COM222/blob/Assignments/exercise2.ipynb\" target=\"_parent\"><img src=\"https://colab.research.google.com/assets/colab-badge.svg\" alt=\"Open In Colab\"/></a>"
      ]
    },
    {
      "cell_type": "markdown",
      "metadata": {
        "id": "QNWAYtOH8JJM"
      },
      "source": [
        "# Exercise 2"
      ]
    },
    {
      "cell_type": "markdown",
      "metadata": {
        "id": "WqS_i0U78JJQ"
      },
      "source": [
        "#### Pre-defined stack functions"
      ]
    },
    {
      "cell_type": "code",
      "execution_count": 1,
      "metadata": {
        "id": "Q55AdD2y8JJR"
      },
      "outputs": [],
      "source": [
        "# Creating a stack\n",
        "def create_stack():\n",
        "    stack = []\n",
        "    return stack\n",
        "\n",
        "def print_stack(stack):\n",
        "\n",
        "    if (check_empty(stack)):\n",
        "            return \"stack is empty\"\n",
        "\n",
        "    # Create a copy of the stack and reverse the elements\n",
        "    tempStack = stack.copy()\n",
        "    tempStack.reverse()\n",
        "\n",
        "    # Print all elements using a loop\n",
        "    for i in tempStack:\n",
        "        print(i)\n",
        "\n",
        "    # Delete the copy to free up memory\n",
        "    del tempStack\n",
        "\n",
        "# Creating an empty stack\n",
        "def check_empty(stack):\n",
        "    return len(stack) == 0\n",
        "\n",
        "\n",
        "# Adding items into the stack\n",
        "def push(stack, item):\n",
        "    stack.append(item)\n",
        "    print(\"pushed item: \", item)\n",
        "\n",
        "\n",
        "# Removing an element from the stack\n",
        "def pop(stack):\n",
        "    if (check_empty(stack)):\n",
        "        return \"stack is empty\"\n",
        "\n",
        "    return stack.pop()\n",
        "\n",
        "def peek(stack):\n",
        "\n",
        "    # Use negative indexing to display the last element of the list\n",
        "    print(stack[-1])\n"
      ]
    },
    {
      "cell_type": "markdown",
      "metadata": {
        "id": "z5FA3bY38JJT"
      },
      "source": [
        "#### 1. Create a burger stack.  \n",
        "\n",
        "The output of the stack should be in this order:\n",
        "\n",
        "- Bun\n",
        "\n",
        "- Tomato\n",
        "\n",
        "- Lettuce\n",
        "\n",
        "- Cheese\n",
        "\n",
        "- Patty\n",
        "\n",
        "- Bun"
      ]
    },
    {
      "cell_type": "code",
      "execution_count": 4,
      "metadata": {
        "id": "n6yPehQq8JJU",
        "outputId": "b77ce523-8dbb-4a18-f239-2089cdda7bf7",
        "colab": {
          "base_uri": "https://localhost:8080/"
        }
      },
      "outputs": [
        {
          "output_type": "stream",
          "name": "stdout",
          "text": [
            "pushed item:  Bun\n",
            "pushed item:  Tomato\n",
            "pushed item:  Lettuce\n",
            "pushed item:  Cheese\n",
            "pushed item:  Patty\n",
            "pushed item:  Bun\n",
            "Output: \n",
            "Bun\n",
            "Patty\n",
            "Cheese\n",
            "Lettuce\n",
            "Tomato\n",
            "Bun\n"
          ]
        }
      ],
      "source": [
        "burger = create_stack()\n",
        "\n",
        "# Push every ingredient to burger\n",
        "for ingredient in [\"Bun\", \"Tomato\", \"Lettuce\", \"Cheese\", \"Patty\", \"Bun\"]:\n",
        "  push(burger, ingredient)\n",
        "\n",
        "print(\"Output: \")\n",
        "print_stack(burger)"
      ]
    },
    {
      "cell_type": "markdown",
      "metadata": {
        "id": "W4XvryDA8JJU"
      },
      "source": [
        "#### 2. Reverse a string using a stack\n",
        "\n",
        "Given two stacks:\n",
        "\n",
        "**name_stack = ['E', 'L', 'I', 'Z', 'E', 'R']**\n",
        "\n",
        "**reversed_stack = []**\n",
        "\n",
        "Use your **firstname** and pop each letter from the **name_stack** and push each element into the **reversed_stack**\n",
        "\n",
        "-----------------\n",
        "**Expected output:**\n",
        "\n",
        "print(reversed_stack)\n",
        "\n",
        "['R', 'E', 'Z', 'I', 'L', 'E']"
      ]
    },
    {
      "cell_type": "code",
      "execution_count": 7,
      "metadata": {
        "id": "BuPMzC-g8JJV",
        "outputId": "708d2069-3b97-4c3c-d5f2-4ec4cc038311",
        "colab": {
          "base_uri": "https://localhost:8080/"
        }
      },
      "outputs": [
        {
          "output_type": "stream",
          "name": "stdout",
          "text": [
            "pushed item:  A\n",
            "pushed item:  B\n",
            "pushed item:  A\n",
            "pushed item:  N\n",
            "pushed item:  U\n",
            "pushed item:  L\n",
            "pushed item:  E\n",
            "pushed item:  E\n",
            "pushed item:  L\n",
            "pushed item:  N\n",
            "pushed item:  A\n",
            "pushed item:  I\n",
            "pushed item:  T\n",
            "pushed item:  S\n",
            "pushed item:  I\n",
            "pushed item:  R\n",
            "pushed item:  H\n",
            "pushed item:  C\n",
            "Output: \n",
            "['A', 'B', 'A', 'N', 'U', 'L', 'E', 'E', 'L', 'N', 'A', 'I', 'T', 'S', 'I', 'R', 'H', 'C']\n"
          ]
        }
      ],
      "source": [
        "name_stack = list(\"CHRISTIANLEELUNABA\")\n",
        "reversed_stack = []\n",
        "\n",
        "# Reversal\n",
        "while not check_empty(name_stack):\n",
        "  push(reversed_stack, pop(name_stack))\n",
        "\n",
        "print(\"Output: \")\n",
        "print(reversed_stack)"
      ]
    },
    {
      "cell_type": "markdown",
      "metadata": {
        "id": "coRKfCPZ8JJV"
      },
      "source": [
        "#### 3. Remove elements using a stack\n",
        "\n",
        "Given this stack:\n",
        "\n",
        "numbers = [1,2,3,4,5,6,7,8,9,10]\n",
        "\n",
        "new_stack = []\n",
        "\n",
        "Using the **pop()** function, push elements in the **new_stack** if they are an **even number**\n",
        "\n",
        "-----------------\n",
        "\n",
        "**Expected output:**\n",
        "\n",
        "print(new_stack)\n",
        "\n",
        "[2,4,6,8,10]"
      ]
    },
    {
      "cell_type": "code",
      "execution_count": 13,
      "metadata": {
        "id": "zTXYampp8JJV",
        "outputId": "5c27096f-8c74-4110-e8da-f44713c8d46c",
        "colab": {
          "base_uri": "https://localhost:8080/"
        }
      },
      "outputs": [
        {
          "output_type": "stream",
          "name": "stdout",
          "text": [
            "pushed item:  10\n",
            "pushed item:  8\n",
            "pushed item:  6\n",
            "pushed item:  4\n",
            "pushed item:  2\n",
            "Output: \n",
            "[2, 4, 6, 8, 10]\n"
          ]
        }
      ],
      "source": [
        "numbers = [1,2,3,4,5,6,7,8,9,10]\n",
        "new_stack = []\n",
        "\n",
        "# Pop if even\n",
        "while not check_empty(numbers):\n",
        "  push(new_stack, pop(numbers)) if numbers[-1]%2 == 0 else pop(numbers)\n",
        "\n",
        "# Reverse to get the expected output as stated\n",
        "new_stack.reverse()\n",
        "print(\"Output: \")\n",
        "print(new_stack)"
      ]
    },
    {
      "cell_type": "markdown",
      "metadata": {
        "id": "1s4LGmuT8JJW"
      },
      "source": [
        "#### 4. Inserting elements into a stack\n",
        "\n",
        "Given two stacks:\n",
        "\n",
        "my_stack = ['E', 'L', 'I', 'Z', 'E', 'R', 'P', 'O', 'N', 'I', 'O', 'J', 'R']\n",
        "\n",
        "empty_stack = []\n",
        "\n",
        "Use **pop()** to get each element from  **my_stack** and use **push()** to insert the element to **empty_stack** only if:\n",
        "\n",
        "1. The element is a **vowel**\n",
        "2. The element does not exist in **empty_stack**\n",
        "\n",
        "----------------------\n",
        "\n",
        "**Expected output:**\n",
        "\n",
        "print_stack(empty_stack)\n",
        "\n",
        "['E', 'I', 'O']"
      ]
    },
    {
      "cell_type": "code",
      "execution_count": 21,
      "metadata": {
        "id": "cGXh7yd18JJW",
        "outputId": "4050d2e9-7006-40ee-a249-1787d3436b9a",
        "colab": {
          "base_uri": "https://localhost:8080/"
        }
      },
      "outputs": [
        {
          "output_type": "stream",
          "name": "stdout",
          "text": [
            "pushed item:  O\n",
            "pushed item:  I\n",
            "pushed item:  E\n",
            "Output: \n",
            "E\n",
            "I\n",
            "O\n"
          ]
        }
      ],
      "source": [
        "my_stack = ['E', 'L', 'I', 'Z', 'E', 'R', 'P', 'O', 'N', 'I', 'O', 'J', 'R']\n",
        "empty_stack = []\n",
        "vowels = [\"a\", \"e\", \"i\", \"o\", \"u\"]\n",
        "\n",
        "while not check_empty(my_stack):\n",
        "  push(empty_stack, pop(my_stack)) if my_stack[-1].lower() in vowels and my_stack[-1] not in empty_stack else pop(my_stack)\n",
        "\n",
        "print(\"Output: \")\n",
        "print_stack(empty_stack)"
      ]
    },
    {
      "cell_type": "markdown",
      "metadata": {
        "id": "cwtpya5m8JJX"
      },
      "source": [
        "#### 5. Sort elements in a stack\n",
        "\n",
        "Given two stacks:\n",
        "\n",
        "number_stack = [3,1,2]\n",
        "\n",
        "sorted_stack = []\n",
        "\n",
        "Create a **sort()** function to pop each element from the **number_stack** and push each element into the **sorted_stack**. The elements in **sorted_stack** must be in ascending order.\n",
        "\n",
        "----------------\n",
        "\n",
        "**Hint:**\n",
        "\n",
        "| iteration | number_stack | sorted_stack |\n",
        "| --- | --- | --- |\n",
        "| 1 | [3, 1, 2] | [] |\n",
        "| 2 | [3, 1] | [2] |\n",
        "| 3 | [3, 2] | [1] |\n",
        "| 4 | [3] | [1, 2] |\n",
        "| 5 | [] | [1, 2, 3] |\n",
        "\n",
        "**Expected output:**\n",
        "\n",
        "print(sorted_stack)\n",
        "\n",
        "[1, 2, 3]"
      ]
    },
    {
      "cell_type": "code",
      "execution_count": 26,
      "metadata": {
        "id": "XrLee2zo8JJX",
        "outputId": "da087e77-1822-40e2-fa13-42e4b8ab2494",
        "colab": {
          "base_uri": "https://localhost:8080/"
        }
      },
      "outputs": [
        {
          "output_type": "stream",
          "name": "stdout",
          "text": [
            "pushed item:  8\n",
            "pushed item:  8\n",
            "pushed item:  7\n",
            "pushed item:  8\n",
            "pushed item:  9\n",
            "pushed item:  9\n",
            "pushed item:  8\n",
            "pushed item:  7\n",
            "pushed item:  6\n",
            "pushed item:  7\n",
            "pushed item:  8\n",
            "pushed item:  9\n",
            "pushed item:  9\n",
            "pushed item:  8\n",
            "pushed item:  7\n",
            "pushed item:  6\n",
            "pushed item:  5\n",
            "pushed item:  6\n",
            "pushed item:  7\n",
            "pushed item:  8\n",
            "pushed item:  9\n",
            "pushed item:  9\n",
            "pushed item:  8\n",
            "pushed item:  7\n",
            "pushed item:  6\n",
            "pushed item:  5\n",
            "pushed item:  2\n",
            "pushed item:  5\n",
            "pushed item:  6\n",
            "pushed item:  7\n",
            "pushed item:  8\n",
            "pushed item:  9\n",
            "pushed item:  9\n",
            "pushed item:  8\n",
            "pushed item:  7\n",
            "pushed item:  6\n",
            "pushed item:  5\n",
            "pushed item:  3\n",
            "pushed item:  5\n",
            "pushed item:  6\n",
            "pushed item:  7\n",
            "pushed item:  8\n",
            "pushed item:  9\n",
            "pushed item:  9\n",
            "pushed item:  8\n",
            "pushed item:  7\n",
            "pushed item:  6\n",
            "pushed item:  5\n",
            "pushed item:  3\n",
            "pushed item:  2\n",
            "pushed item:  1\n",
            "pushed item:  2\n",
            "pushed item:  3\n",
            "pushed item:  5\n",
            "pushed item:  6\n",
            "pushed item:  7\n",
            "pushed item:  8\n",
            "pushed item:  9\n",
            "Output: \n",
            "[1, 2, 3, 5, 6, 7, 8, 9]\n"
          ]
        }
      ],
      "source": [
        "number_stack = [1, 3, 2, 5, 6, 9, 7, 8]\n",
        "sorted_stack = []\n",
        "\n",
        "def sort(unsorted, sorted):\n",
        "  while (not check_empty(unsorted)):\n",
        "    # Store the front of the unsorted stack\n",
        "    temp = pop(unsorted)\n",
        "\n",
        "    # Remove the top of sorted and place it to unsorted as long as it's greater than temp\n",
        "    while (not check_empty(sorted) and sorted[-1] > temp):\n",
        "      push(number_stack, pop(sorted_stack))\n",
        "\n",
        "    # Place temp to sorted stack\n",
        "    push(sorted, temp)\n",
        "\n",
        "sort(number_stack, sorted_stack)\n",
        "\n",
        "print(\"Output: \")\n",
        "print(sorted_stack)\n",
        ""
      ]
    }
  ],
  "metadata": {
    "kernelspec": {
      "display_name": "Python 3",
      "language": "python",
      "name": "python3"
    },
    "language_info": {
      "codemirror_mode": {
        "name": "ipython",
        "version": 3
      },
      "file_extension": ".py",
      "mimetype": "text/x-python",
      "name": "python",
      "nbconvert_exporter": "python",
      "pygments_lexer": "ipython3",
      "version": "3.11.4"
    },
    "orig_nbformat": 4,
    "colab": {
      "provenance": [],
      "include_colab_link": true
    }
  },
  "nbformat": 4,
  "nbformat_minor": 0
}